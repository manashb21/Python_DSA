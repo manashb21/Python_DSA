{
  "nbformat": 4,
  "nbformat_minor": 0,
  "metadata": {
    "colab": {
      "name": "First.ipynb",
      "provenance": [],
      "collapsed_sections": [],
      "authorship_tag": "ABX9TyOQXUdp7FdVy572BPJ5CPCs",
      "include_colab_link": true
    },
    "kernelspec": {
      "name": "python3",
      "display_name": "Python 3"
    },
    "language_info": {
      "name": "python"
    }
  },
  "cells": [
    {
      "cell_type": "markdown",
      "metadata": {
        "id": "view-in-github",
        "colab_type": "text"
      },
      "source": [
        "<a href=\"https://colab.research.google.com/github/manashb21/Python_DSA/blob/main/First.ipynb\" target=\"_parent\"><img src=\"https://colab.research.google.com/assets/colab-badge.svg\" alt=\"Open In Colab\"/></a>"
      ]
    },
    {
      "cell_type": "code",
      "execution_count": 2,
      "metadata": {
        "id": "XdpW9fMXJByI"
      },
      "outputs": [],
      "source": [
        "#We need to write a program to find the position of a given number in a list of numbers arranged in decreasing order. We also need to \n",
        "#minimize the number of times we access the elements from the list."
      ]
    },
    {
      "cell_type": "code",
      "source": [
        "!pip install jovian --upgrade --quiet"
      ],
      "metadata": {
        "colab": {
          "base_uri": "https://localhost:8080/"
        },
        "id": "cCDco3-eYR0r",
        "outputId": "8891f2f2-59c8-42c8-9be8-75e44f169e88"
      },
      "execution_count": 46,
      "outputs": [
        {
          "output_type": "stream",
          "name": "stdout",
          "text": [
            "\u001b[?25l\r\u001b[K     |████▊                           | 10 kB 33.4 MB/s eta 0:00:01\r\u001b[K     |█████████▌                      | 20 kB 24.5 MB/s eta 0:00:01\r\u001b[K     |██████████████▎                 | 30 kB 22.6 MB/s eta 0:00:01\r\u001b[K     |███████████████████             | 40 kB 18.3 MB/s eta 0:00:01\r\u001b[K     |███████████████████████▉        | 51 kB 13.0 MB/s eta 0:00:01\r\u001b[K     |████████████████████████████▋   | 61 kB 15.3 MB/s eta 0:00:01\r\u001b[K     |████████████████████████████████| 68 kB 4.9 MB/s \n",
            "\u001b[?25h  Building wheel for uuid (setup.py) ... \u001b[?25l\u001b[?25hdone\n"
          ]
        }
      ]
    },
    {
      "cell_type": "code",
      "source": [
        "from jovian.pythondsa import evaluate_test_case, evaluate_test_cases"
      ],
      "metadata": {
        "id": "hKYVSkJ1YYuT"
      },
      "execution_count": 50,
      "outputs": []
    },
    {
      "cell_type": "markdown",
      "source": [
        "**Input**\n",
        "\n",
        "\n",
        "1.   cards : A list of numbers sorted in decreasing order.\n",
        "2.   query : A number, whose position is to be determined in the array.\n",
        "\n",
        "**Output**\n",
        "3. position : The positin of *query* in the list *cards*.\n",
        "\n",
        "Based on these, we now create the signature of our function, "
      ],
      "metadata": {
        "id": "88vwpCQpLB8I"
      }
    },
    {
      "cell_type": "code",
      "source": [
        "def locate_card(cards, query):\n",
        "  pass"
      ],
      "metadata": {
        "id": "XjAmdEiEMQ3J"
      },
      "execution_count": 3,
      "outputs": []
    },
    {
      "cell_type": "markdown",
      "source": [
        "***Come up wih some example inputs and outputs. Try to cover all edge cases.***\n"
      ],
      "metadata": {
        "id": "ba3qUumUMlBD"
      }
    },
    {
      "cell_type": "code",
      "source": [
        "cards = [13, 11, 10, 7, 4, 3, 1, 0]\n",
        "query = 7\n",
        "output = 3"
      ],
      "metadata": {
        "id": "scZC7bUdMxn4"
      },
      "execution_count": 4,
      "outputs": []
    },
    {
      "cell_type": "markdown",
      "source": [
        "We can test our function by passing the inputs inot function and comparing the resuly with the expected output."
      ],
      "metadata": {
        "id": "Tj52C9vrM87D"
      }
    },
    {
      "cell_type": "code",
      "source": [
        "result = locate_card(cards, query)\n",
        "print(result)"
      ],
      "metadata": {
        "colab": {
          "base_uri": "https://localhost:8080/"
        },
        "id": "XKqRpPNxNESQ",
        "outputId": "f349d96d-65c2-4745-d511-5c725fff4a6a"
      },
      "execution_count": 5,
      "outputs": [
        {
          "output_type": "stream",
          "name": "stdout",
          "text": [
            "None\n"
          ]
        }
      ]
    },
    {
      "cell_type": "code",
      "source": [
        "result == output"
      ],
      "metadata": {
        "colab": {
          "base_uri": "https://localhost:8080/"
        },
        "id": "JKryseoONIA3",
        "outputId": "eeb708c1-5d34-4af5-ce31-25b9d21edda3"
      },
      "execution_count": 6,
      "outputs": [
        {
          "output_type": "execute_result",
          "data": {
            "text/plain": [
              "False"
            ]
          },
          "metadata": {},
          "execution_count": 6
        }
      ]
    },
    {
      "cell_type": "markdown",
      "source": [
        "The result is false here as we have not implemented the function yet. \n",
        "\n",
        "We'll represent our test cases as dictionaries to make it easier to test them once we write and implement our function. For example, the above test case can be represented as follows:"
      ],
      "metadata": {
        "id": "l7NKBtTcNMTG"
      }
    },
    {
      "cell_type": "code",
      "source": [
        "test = {\n",
        "    'input' : {\n",
        "        'cards' : [13, 11, 10, 7, 4, 3, 1, 0],\n",
        "        'query' : 7\n",
        "    },\n",
        "    'output' : 3\n",
        "}"
      ],
      "metadata": {
        "id": "gfs7qaTHNWHr"
      },
      "execution_count": 7,
      "outputs": []
    },
    {
      "cell_type": "markdown",
      "source": [
        "The function can be tested as, "
      ],
      "metadata": {
        "id": "QSugtSSHN0rm"
      }
    },
    {
      "cell_type": "code",
      "source": [
        "#locate_card(test['input']['cards'], test['input']['query']) == test['output']\n",
        "#it can be written as\n",
        "\n",
        "locate_card(**test['input']) == test['output']"
      ],
      "metadata": {
        "colab": {
          "base_uri": "https://localhost:8080/"
        },
        "id": "GZOm-pPLOPU7",
        "outputId": "04801c1a-a552-45be-fa37-f26b1426db3f"
      },
      "execution_count": 8,
      "outputs": [
        {
          "output_type": "execute_result",
          "data": {
            "text/plain": [
              "False"
            ]
          },
          "metadata": {},
          "execution_count": 8
        }
      ]
    },
    {
      "cell_type": "markdown",
      "source": [
        "Our function should be able to handle any set of valid inputs we pass into it. Some possible variations:\n",
        "\n",
        "1. `query` occurs somewhere in the ***middle*** of the list `cards`.\n",
        "2. `query` is the ***first element*** in `cards`.\n",
        "3. `query` is the ***last element*** in `cards`.\n",
        "4. The list `cards` contains ***just one element***, which is `query`.\n",
        "5. The list `cards` ***does not contain*** number `query`.\n",
        "6. The list `cards` is ***empty***.\n",
        "7. The list `cards` contains ***repeating*** numbers.\n",
        "8. The number `query` occurs at ***more than one*** position in `cards`.\n",
        "9. (might be more...)\n",
        "\n",
        "\n",
        "\n",
        "> **EDGE CASES** : We might not have thought of all these edge cases when reading the question for the first time. \n",
        "\n",
        "\n",
        "\n"
      ],
      "metadata": {
        "id": "LYGxP-y7Oi3W"
      }
    },
    {
      "cell_type": "code",
      "source": [
        "tests = []"
      ],
      "metadata": {
        "id": "sWi5k9S_P87P"
      },
      "execution_count": 31,
      "outputs": []
    },
    {
      "cell_type": "code",
      "source": [
        "#query occurs in the middle\n",
        "tests. append(test)\n",
        "\n",
        "tests.append({\n",
        "    'input': {\n",
        "        'cards' : [13, 11, 10, 7, 4, 3, 1, 0],\n",
        "        'query' : 1\n",
        "    },\n",
        "    'output' : 6\n",
        "  })"
      ],
      "metadata": {
        "id": "NiQRH6lBQe_a"
      },
      "execution_count": 32,
      "outputs": []
    },
    {
      "cell_type": "code",
      "source": [
        "#query is the first element\n",
        "tests.append({\n",
        "    'input': {\n",
        "        'cards' : [4, 2, 1, -1],\n",
        "        'query' : 4\n",
        "    },\n",
        "    'output' : 0\n",
        "  })"
      ],
      "metadata": {
        "id": "BAQ_POS0Qhg2"
      },
      "execution_count": 33,
      "outputs": []
    },
    {
      "cell_type": "code",
      "source": [
        "#query is the last element, and numbers could be negative as well\n",
        "tests.append({\n",
        "    'input': {\n",
        "        'cards' : [3, -1, -9, -127],\n",
        "        'query' : -127\n",
        "    },\n",
        "    'output' : 3\n",
        "  })"
      ],
      "metadata": {
        "id": "jV_GbfpwRVTP"
      },
      "execution_count": 34,
      "outputs": []
    },
    {
      "cell_type": "code",
      "source": [
        "#cards contains just one element, query\n",
        "tests.append({\n",
        "    'input': {\n",
        "        'cards' : [6],\n",
        "        'query' : 6\n",
        "    },\n",
        "    'output' : 0\n",
        "  })"
      ],
      "metadata": {
        "id": "QtX2rZECRnrE"
      },
      "execution_count": 35,
      "outputs": []
    },
    {
      "cell_type": "markdown",
      "source": [
        "The problem statement does not specify what to do it the list `cards` does not contain the number `query`.\n",
        "\n",
        "1. Read the problem statement again carefully.\n",
        "2. Look through the examples provided with the problem.\n",
        "3. Ask the interviewer/platform for a clarification.\n",
        "4. Make a reasonable assumption, state it and move forward.\n",
        "\n",
        "Assume here our function returns `-1` in case `cards` does not contain `query`."
      ],
      "metadata": {
        "id": "TbKBkAleRtXG"
      }
    },
    {
      "cell_type": "code",
      "source": [
        "#cards does not contain query\n",
        "tests.append({\n",
        "    'input': {\n",
        "        'cards' : [9, 7, 5, 2, -9],\n",
        "        'query' : 4\n",
        "    },\n",
        "    'output' : -1\n",
        "  })"
      ],
      "metadata": {
        "id": "p58ZG5h5Sb6H"
      },
      "execution_count": 36,
      "outputs": []
    },
    {
      "cell_type": "code",
      "source": [
        "#cards is empty\n",
        "tests.append({\n",
        "    'input': {\n",
        "        'cards' : [],\n",
        "        'query' : 7\n",
        "    },\n",
        "    'output' : -1\n",
        "  })"
      ],
      "metadata": {
        "id": "EcgPaZnpSjdY"
      },
      "execution_count": 73,
      "outputs": []
    },
    {
      "cell_type": "code",
      "source": [
        "#numbers repeat in cards\n",
        "tests.append({\n",
        "    'input': {\n",
        "        'cards' : [8, 8, 6, 6, 6, 6, 6, 3, 2, 2, 2, 0, 0, 0],\n",
        "        'query' : 3\n",
        "    },\n",
        "    'output' : 7\n",
        "  })"
      ],
      "metadata": {
        "id": "bAV_W2kxSy0s"
      },
      "execution_count": 74,
      "outputs": []
    },
    {
      "cell_type": "markdown",
      "source": [
        "In case `query` repeats in `cards`, return the first occurence of `query`.\n",
        "(for this time)"
      ],
      "metadata": {
        "id": "PnyRW89STFeL"
      }
    },
    {
      "cell_type": "code",
      "source": [
        "#query repeats \n",
        "tests.append({\n",
        "    'input': {\n",
        "        'cards' : [8, 8, 6, 6, 6, 6, 6, 3, 2, 2, 2, 0, 0, 0],\n",
        "        'query' : 6\n",
        "    },\n",
        "    'output' : 2\n",
        "  })"
      ],
      "metadata": {
        "id": "zecFgY5qS9Ce"
      },
      "execution_count": 75,
      "outputs": []
    },
    {
      "cell_type": "code",
      "source": [
        "tests"
      ],
      "metadata": {
        "colab": {
          "base_uri": "https://localhost:8080/"
        },
        "id": "alj6NRtwTWUd",
        "outputId": "67f37890-2857-4e29-f0aa-b7fa0a7c1aa9"
      },
      "execution_count": 76,
      "outputs": [
        {
          "output_type": "execute_result",
          "data": {
            "text/plain": [
              "[{'input': {'cards': [13, 11, 10, 7, 4, 3, 1, 0], 'query': 7}, 'output': 3},\n",
              " {'input': {'cards': [13, 11, 10, 7, 4, 3, 1, 0], 'query': 1}, 'output': 6},\n",
              " {'input': {'cards': [4, 2, 1, -1], 'query': 4}, 'output': 0},\n",
              " {'input': {'cards': [3, -1, -9, -127], 'query': -127}, 'output': 3},\n",
              " {'input': {'cards': [6], 'query': 6}, 'output': 0},\n",
              " {'input': {'cards': [9, 7, 5, 2, -9], 'query': 4}, 'output': -1},\n",
              " {'input': {'cards': [], 'query': 7}, 'output': -1},\n",
              " {'input': {'cards': [8, 8, 6, 6, 6, 6, 6, 3, 2, 2, 2, 0, 0, 0], 'query': 3},\n",
              "  'output': 7},\n",
              " {'input': {'cards': [8, 8, 6, 6, 6, 6, 6, 3, 2, 2, 2, 0, 0, 0], 'query': 6},\n",
              "  'output': 2},\n",
              " {'input': {'cards': [], 'query': 7}, 'output': -1},\n",
              " {'input': {'cards': [8, 8, 6, 6, 6, 6, 6, 3, 2, 2, 2, 0, 0, 0], 'query': 3},\n",
              "  'output': 7},\n",
              " {'input': {'cards': [8, 8, 6, 6, 6, 6, 6, 3, 2, 2, 2, 0, 0, 0], 'query': 6},\n",
              "  'output': 2}]"
            ]
          },
          "metadata": {},
          "execution_count": 76
        }
      ]
    },
    {
      "cell_type": "markdown",
      "source": [
        "**Come up with correct solution for the problem.**\n",
        "\n",
        "Our first goal should be to come up with a correct solution  to the problem, which may necessarily be the most **efficient** solution. \n",
        "\n",
        "The simplest or most obvious solution which generally involves checking all possible answers is called the **Brute Force** solution.\n",
        "\n",
        "Here, Bob can simply turn over cards in order one by one, till he find a card with the given number on it. \n",
        "Implementation:\n",
        "\n",
        "1. Create a variable `position` with the value `0`.\n",
        "2. Check whether the number at index `position` in `card` equals `query`.\n",
        "3. If it does, `position` is the answer and can be returned from the function.\n",
        "4. If not, increment the value of `position` by `, and repeat steps 2 to 5 till we reach the last position.\n",
        "5. If the number was not found, return `-1`.\n",
        "\n",
        "> **Linear Search Algorithm :** This particular algo is called linear search. Searching through a list in a linear fashion, element after element. \n"
      ],
      "metadata": {
        "id": "AAXGUMvXTcHL"
      }
    },
    {
      "cell_type": "markdown",
      "source": [
        "**Implement the Solution and test it using example inputs.**"
      ],
      "metadata": {
        "id": "PFnZEqnyUtza"
      }
    },
    {
      "cell_type": "code",
      "source": [
        "def locate_card(cards, query):\n",
        "  #variabel position with value 0\n",
        "  position  = 0\n",
        "\n",
        "  #set a loop for repetition\n",
        "  while True:\n",
        "\n",
        "    #checkign if element at current pos matches the query\n",
        "    if cards[position] == query:\n",
        "      return position #query found\n",
        "    #increment the position\n",
        "    position += 1 \n",
        "\n",
        "    #check if we have reached the end of array\n",
        "    if position == len(cards):\n",
        "      #number not found\n",
        "      return -1"
      ],
      "metadata": {
        "id": "8OTawI2fWeiF"
      },
      "execution_count": 41,
      "outputs": []
    },
    {
      "cell_type": "code",
      "source": [
        "test"
      ],
      "metadata": {
        "colab": {
          "base_uri": "https://localhost:8080/"
        },
        "id": "NYhuBngjXJOL",
        "outputId": "656fd34c-dd51-4c5d-9894-3fd86c8ac666"
      },
      "execution_count": 42,
      "outputs": [
        {
          "output_type": "execute_result",
          "data": {
            "text/plain": [
              "{'input': {'cards': [13, 11, 10, 7, 4, 3, 1, 0], 'query': 7}, 'output': 3}"
            ]
          },
          "metadata": {},
          "execution_count": 42
        }
      ]
    },
    {
      "cell_type": "code",
      "source": [
        "result = locate_card(**test['input'])\n",
        "result"
      ],
      "metadata": {
        "colab": {
          "base_uri": "https://localhost:8080/"
        },
        "id": "YRxHCrQ6XQsJ",
        "outputId": "534ac1a3-2d92-48b3-f677-292c6c0684c7"
      },
      "execution_count": 43,
      "outputs": [
        {
          "output_type": "execute_result",
          "data": {
            "text/plain": [
              "3"
            ]
          },
          "metadata": {},
          "execution_count": 43
        }
      ]
    },
    {
      "cell_type": "code",
      "source": [
        "result == test['output']"
      ],
      "metadata": {
        "colab": {
          "base_uri": "https://localhost:8080/"
        },
        "id": "xVi5GMhpXmV3",
        "outputId": "5f3fbcd4-c7eb-4491-cf1a-13c092c7cddb"
      },
      "execution_count": 45,
      "outputs": [
        {
          "output_type": "execute_result",
          "data": {
            "text/plain": [
              "True"
            ]
          },
          "metadata": {},
          "execution_count": 45
        }
      ]
    },
    {
      "cell_type": "code",
      "source": [
        "evaluate_test_cases(locate_card, tests)"
      ],
      "metadata": {
        "colab": {
          "base_uri": "https://localhost:8080/",
          "height": 1000
        },
        "id": "BZWtSCxoXqBi",
        "outputId": "5f4cc443-908b-4df8-c426-14f532dd935c"
      },
      "execution_count": 52,
      "outputs": [
        {
          "output_type": "stream",
          "name": "stdout",
          "text": [
            "\n",
            "\u001b[1mTEST CASE #0\u001b[0m\n",
            "\n",
            "Input:\n",
            "{'cards': [13, 11, 10, 7, 4, 3, 1, 0], 'query': 7}\n",
            "\n",
            "Expected Output:\n",
            "3\n",
            "\n",
            "\n",
            "Actual Output:\n",
            "3\n",
            "\n",
            "Execution Time:\n",
            "0.003 ms\n",
            "\n",
            "Test Result:\n",
            "\u001b[92mPASSED\u001b[0m\n",
            "\n",
            "\n",
            "\u001b[1mTEST CASE #1\u001b[0m\n",
            "\n",
            "Input:\n",
            "{'cards': [13, 11, 10, 7, 4, 3, 1, 0], 'query': 1}\n",
            "\n",
            "Expected Output:\n",
            "6\n",
            "\n",
            "\n",
            "Actual Output:\n",
            "6\n",
            "\n",
            "Execution Time:\n",
            "0.004 ms\n",
            "\n",
            "Test Result:\n",
            "\u001b[92mPASSED\u001b[0m\n",
            "\n",
            "\n",
            "\u001b[1mTEST CASE #2\u001b[0m\n",
            "\n",
            "Input:\n",
            "{'cards': [4, 2, 1, -1], 'query': 4}\n",
            "\n",
            "Expected Output:\n",
            "0\n",
            "\n",
            "\n",
            "Actual Output:\n",
            "0\n",
            "\n",
            "Execution Time:\n",
            "0.002 ms\n",
            "\n",
            "Test Result:\n",
            "\u001b[92mPASSED\u001b[0m\n",
            "\n",
            "\n",
            "\u001b[1mTEST CASE #3\u001b[0m\n",
            "\n",
            "Input:\n",
            "{'cards': [3, -1, -9, -127], 'query': -127}\n",
            "\n",
            "Expected Output:\n",
            "3\n",
            "\n",
            "\n",
            "Actual Output:\n",
            "3\n",
            "\n",
            "Execution Time:\n",
            "0.003 ms\n",
            "\n",
            "Test Result:\n",
            "\u001b[92mPASSED\u001b[0m\n",
            "\n",
            "\n",
            "\u001b[1mTEST CASE #4\u001b[0m\n",
            "\n",
            "Input:\n",
            "{'cards': [6], 'query': 6}\n",
            "\n",
            "Expected Output:\n",
            "0\n",
            "\n",
            "\n",
            "Actual Output:\n",
            "0\n",
            "\n",
            "Execution Time:\n",
            "0.002 ms\n",
            "\n",
            "Test Result:\n",
            "\u001b[92mPASSED\u001b[0m\n",
            "\n",
            "\n",
            "\u001b[1mTEST CASE #5\u001b[0m\n",
            "\n",
            "Input:\n",
            "{'cards': [9, 7, 5, 2, -9], 'query': 4}\n",
            "\n",
            "Expected Output:\n",
            "-1\n",
            "\n",
            "\n",
            "Actual Output:\n",
            "-1\n",
            "\n",
            "Execution Time:\n",
            "0.003 ms\n",
            "\n",
            "Test Result:\n",
            "\u001b[92mPASSED\u001b[0m\n",
            "\n",
            "\n",
            "\u001b[1mTEST CASE #6\u001b[0m\n"
          ]
        },
        {
          "output_type": "error",
          "ename": "IndexError",
          "evalue": "ignored",
          "traceback": [
            "\u001b[0;31m---------------------------------------------------------------------------\u001b[0m",
            "\u001b[0;31mIndexError\u001b[0m                                Traceback (most recent call last)",
            "\u001b[0;32m<ipython-input-52-2111dddaa84c>\u001b[0m in \u001b[0;36m<module>\u001b[0;34m()\u001b[0m\n\u001b[0;32m----> 1\u001b[0;31m \u001b[0mevaluate_test_cases\u001b[0m\u001b[0;34m(\u001b[0m\u001b[0mlocate_card\u001b[0m\u001b[0;34m,\u001b[0m \u001b[0mtests\u001b[0m\u001b[0;34m)\u001b[0m\u001b[0;34m\u001b[0m\u001b[0;34m\u001b[0m\u001b[0m\n\u001b[0m",
            "\u001b[0;32m/usr/local/lib/python3.7/dist-packages/jovian/pythondsa/__init__.py\u001b[0m in \u001b[0;36mevaluate_test_cases\u001b[0;34m(function, test_cases, error_only, summary_only)\u001b[0m\n\u001b[1;32m     85\u001b[0m         \u001b[0;32mif\u001b[0m \u001b[0;32mnot\u001b[0m \u001b[0merror_only\u001b[0m\u001b[0;34m:\u001b[0m\u001b[0;34m\u001b[0m\u001b[0;34m\u001b[0m\u001b[0m\n\u001b[1;32m     86\u001b[0m             \u001b[0mprint\u001b[0m\u001b[0;34m(\u001b[0m\u001b[0;34m\"\\n\\033[1mTEST CASE #{}\\033[0m\"\u001b[0m\u001b[0;34m.\u001b[0m\u001b[0mformat\u001b[0m\u001b[0;34m(\u001b[0m\u001b[0mi\u001b[0m\u001b[0;34m)\u001b[0m\u001b[0;34m)\u001b[0m\u001b[0;34m\u001b[0m\u001b[0;34m\u001b[0m\u001b[0m\n\u001b[0;32m---> 87\u001b[0;31m         \u001b[0mresult\u001b[0m \u001b[0;34m=\u001b[0m \u001b[0mevaluate_test_case\u001b[0m\u001b[0;34m(\u001b[0m\u001b[0mfunction\u001b[0m\u001b[0;34m,\u001b[0m \u001b[0mtest_case\u001b[0m\u001b[0;34m,\u001b[0m \u001b[0mdisplay\u001b[0m\u001b[0;34m=\u001b[0m\u001b[0;32mFalse\u001b[0m\u001b[0;34m)\u001b[0m\u001b[0;34m\u001b[0m\u001b[0;34m\u001b[0m\u001b[0m\n\u001b[0m\u001b[1;32m     88\u001b[0m         \u001b[0mresults\u001b[0m\u001b[0;34m.\u001b[0m\u001b[0mappend\u001b[0m\u001b[0;34m(\u001b[0m\u001b[0mresult\u001b[0m\u001b[0;34m)\u001b[0m\u001b[0;34m\u001b[0m\u001b[0;34m\u001b[0m\u001b[0m\n\u001b[1;32m     89\u001b[0m         \u001b[0;32mif\u001b[0m \u001b[0merror_only\u001b[0m \u001b[0;32mand\u001b[0m \u001b[0;32mnot\u001b[0m \u001b[0mresult\u001b[0m\u001b[0;34m[\u001b[0m\u001b[0;36m1\u001b[0m\u001b[0;34m]\u001b[0m\u001b[0;34m:\u001b[0m\u001b[0;34m\u001b[0m\u001b[0;34m\u001b[0m\u001b[0m\n",
            "\u001b[0;32m/usr/local/lib/python3.7/dist-packages/jovian/pythondsa/__init__.py\u001b[0m in \u001b[0;36mevaluate_test_case\u001b[0;34m(function, test_case, display)\u001b[0m\n\u001b[1;32m     63\u001b[0m \u001b[0;34m\u001b[0m\u001b[0m\n\u001b[1;32m     64\u001b[0m     \u001b[0mstart\u001b[0m \u001b[0;34m=\u001b[0m \u001b[0mtimer\u001b[0m\u001b[0;34m(\u001b[0m\u001b[0;34m)\u001b[0m\u001b[0;34m\u001b[0m\u001b[0;34m\u001b[0m\u001b[0m\n\u001b[0;32m---> 65\u001b[0;31m     \u001b[0mactual_output\u001b[0m \u001b[0;34m=\u001b[0m \u001b[0mfunction\u001b[0m\u001b[0;34m(\u001b[0m\u001b[0;34m**\u001b[0m\u001b[0minputs\u001b[0m\u001b[0;34m)\u001b[0m\u001b[0;34m\u001b[0m\u001b[0;34m\u001b[0m\u001b[0m\n\u001b[0m\u001b[1;32m     66\u001b[0m     \u001b[0mend\u001b[0m \u001b[0;34m=\u001b[0m \u001b[0mtimer\u001b[0m\u001b[0;34m(\u001b[0m\u001b[0;34m)\u001b[0m\u001b[0;34m\u001b[0m\u001b[0;34m\u001b[0m\u001b[0m\n\u001b[1;32m     67\u001b[0m \u001b[0;34m\u001b[0m\u001b[0m\n",
            "\u001b[0;32m<ipython-input-41-4fae105c4501>\u001b[0m in \u001b[0;36mlocate_card\u001b[0;34m(cards, query)\u001b[0m\n\u001b[1;32m      7\u001b[0m \u001b[0;34m\u001b[0m\u001b[0m\n\u001b[1;32m      8\u001b[0m     \u001b[0;31m#checkign if element at current pos matches the query\u001b[0m\u001b[0;34m\u001b[0m\u001b[0;34m\u001b[0m\u001b[0;34m\u001b[0m\u001b[0m\n\u001b[0;32m----> 9\u001b[0;31m     \u001b[0;32mif\u001b[0m \u001b[0mcards\u001b[0m\u001b[0;34m[\u001b[0m\u001b[0mposition\u001b[0m\u001b[0;34m]\u001b[0m \u001b[0;34m==\u001b[0m \u001b[0mquery\u001b[0m\u001b[0;34m:\u001b[0m\u001b[0;34m\u001b[0m\u001b[0;34m\u001b[0m\u001b[0m\n\u001b[0m\u001b[1;32m     10\u001b[0m       \u001b[0;32mreturn\u001b[0m \u001b[0mposition\u001b[0m \u001b[0;31m#query found\u001b[0m\u001b[0;34m\u001b[0m\u001b[0;34m\u001b[0m\u001b[0m\n\u001b[1;32m     11\u001b[0m     \u001b[0;31m#increment the position\u001b[0m\u001b[0;34m\u001b[0m\u001b[0;34m\u001b[0m\u001b[0;34m\u001b[0m\u001b[0m\n",
            "\u001b[0;31mIndexError\u001b[0m: list index out of range"
          ]
        }
      ]
    },
    {
      "cell_type": "code",
      "source": [
        "tests[6]"
      ],
      "metadata": {
        "colab": {
          "base_uri": "https://localhost:8080/"
        },
        "id": "MBWGtyqQYjdr",
        "outputId": "8776503f-d478-48e3-e5e8-0553907eddbe"
      },
      "execution_count": 77,
      "outputs": [
        {
          "output_type": "execute_result",
          "data": {
            "text/plain": [
              "{'input': {'cards': [], 'query': 7}, 'output': -1}"
            ]
          },
          "metadata": {},
          "execution_count": 77
        }
      ]
    },
    {
      "cell_type": "code",
      "source": [
        "def locate_card(cards, query):\n",
        "  position = 0\n",
        "  while position < len(cards):\n",
        "    if query == cards[position]:\n",
        "      return position\n",
        "    position += 1\n",
        "\n",
        "  return -1 "
      ],
      "metadata": {
        "id": "utbC9EVeZKBm"
      },
      "execution_count": 78,
      "outputs": []
    },
    {
      "cell_type": "code",
      "source": [
        "tests[6]"
      ],
      "metadata": {
        "colab": {
          "base_uri": "https://localhost:8080/"
        },
        "id": "cUSDN3iVee9b",
        "outputId": "f7168e4b-4592-49e9-de68-e8f4ff44c040"
      },
      "execution_count": 79,
      "outputs": [
        {
          "output_type": "execute_result",
          "data": {
            "text/plain": [
              "{'input': {'cards': [], 'query': 7}, 'output': -1}"
            ]
          },
          "metadata": {},
          "execution_count": 79
        }
      ]
    },
    {
      "cell_type": "code",
      "source": [
        "tests[6]['output'] == locate_card(tests[6]['input']['cards'], tests[6]['input']['query'])"
      ],
      "metadata": {
        "colab": {
          "base_uri": "https://localhost:8080/"
        },
        "id": "ElE-d72seh5D",
        "outputId": "3270ffec-3c06-4e90-b990-a98097e2617f"
      },
      "execution_count": 80,
      "outputs": [
        {
          "output_type": "execute_result",
          "data": {
            "text/plain": [
              "True"
            ]
          },
          "metadata": {},
          "execution_count": 80
        }
      ]
    },
    {
      "cell_type": "code",
      "source": [
        ""
      ],
      "metadata": {
        "id": "45ZmGPRkemqu"
      },
      "execution_count": null,
      "outputs": []
    }
  ]
}